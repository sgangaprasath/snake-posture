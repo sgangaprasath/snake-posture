{
 "cells": [
  {
   "cell_type": "code",
   "execution_count": null,
   "id": "847bebf8-af01-436b-95f5-1f855a1523bf",
   "metadata": {},
   "outputs": [],
   "source": [
    "import math\n",
    "import copy\n",
    "from functools import partial\n",
    "import numpy as np\n",
    "import scipy.integrate as si\n",
    "import matplotlib.pyplot as plt\n",
    "from scipy.stats import linregress"
   ]
  },
  {
   "cell_type": "code",
   "execution_count": null,
   "id": "75c47d31-9a25-44dc-ba82-df540478c0e5",
   "metadata": {},
   "outputs": [],
   "source": [
    "class Snake:\n",
    "    \"\"\"\n",
    "    Should add in plotting and boundary condition specification methods.\n",
    "    \"\"\"\n",
    "\n",
    "    def __init__(self, B=1, c=1, l=1, sigma=0.1, rho=1, mesh_points=50):\n",
    "        self.g = -9.8\n",
    "        self.B = B\n",
    "        self.c = c\n",
    "        self.bt = self.B / self.c\n",
    "        self.sigma = sigma\n",
    "        self.rho = rho\n",
    "        self.lg = (-self.B / (self.rho * self.g)) ** (1 / 3)\n",
    "        self.l = l\n",
    "        self.x = np.linspace(0, 1, mesh_points)\n",
    "        self.y = np.zeros((2, self.x.size))\n",
    "        self.make_initial_guesses()\n",
    "\n",
    "    def make_initial_guesses(self):\n",
    "        \"\"\"\n",
    "        Initial parameter guesses for usual boundary conditions.\n",
    "        \"\"\"\n",
    "        self.y[0, 0] = np.pi / 2\n",
    "        self.y[0, -1] = 0\n",
    "        self.y[1, 0] = 0\n",
    "        # dy_ds = np.exp(-((self.x - 0.75) ** 2) / 0.010)\n",
    "        # y_guess = (\n",
    "        #     np.pi / 2 * si.cumtrapz(dy_ds, -self.x, initial=0) / si.trapz(dy_ds, self.x)\n",
    "        #     + np.pi / 2\n",
    "        # )  # want s=0 to be at pi/2 so need to do integral backwards\n",
    "        # self.y[0, :] = y_guess\n",
    "        # self.y[1, :] = dy_ds\n",
    "\n",
    "    def fun_k(self, x, y, p):\n",
    "        l = p[0]\n",
    "        s_til = copy.deepcopy(x)\n",
    "        f_inte = lambda s: (self.c / (np.sqrt(2 * np.pi) * self.sigma)) * si.trapezoid(\n",
    "            y[1] * np.exp((-((s_til - s) ** 2)) / (2 * self.sigma ** 2)), s_til\n",
    "        )\n",
    "        ma = np.array([f_inte(x_) for x_ in x])\n",
    "        grad_ma = np.gradient(ma, x, edge_order=2)\n",
    "\n",
    "        dy0_dx = y[1]\n",
    "        dy1_dx = -(1) / (self.B) * grad_ma - x * (l / self.lg) ** 3 * np.cos(y[0])\n",
    "        dy_dx = np.vstack((dy0_dx, dy1_dx))\n",
    "        return dy_dx\n",
    "\n",
    "    def bc(self, ya, yb, p):\n",
    "        res1 = ya[0] - np.pi / 2\n",
    "        res2 = yb[0]\n",
    "        res3 = ya[1]\n",
    "        residuals = np.array([res1, res2, res3])\n",
    "        return residuals\n",
    "\n",
    "    def solve(self, verbose=0, max_nodes=1000):\n",
    "        self.sol = si.solve_bvp(\n",
    "            fun=self.fun_k,\n",
    "            bc=self.bc,\n",
    "            x=self.x,\n",
    "            y=self.y,\n",
    "            p=[self.l],\n",
    "            max_nodes=max_nodes,\n",
    "            verbose=verbose,\n",
    "        )\n",
    "        if snake.sol.status != 0:\n",
    "            print(\"The answer didn't converge!\")\n",
    "        self.l = self.sol.p[0]\n",
    "        self.x_pos = si.cumtrapz(self.l * np.cos(self.sol.y[0]), self.sol.x, initial=0)\n",
    "        self.x_pos -= self.x_pos[-1]\n",
    "        self.y_pos = si.cumtrapz(self.l * np.sin(self.sol.y[0]), self.sol.x, initial=0)\n",
    "        self.y_pos -= self.y_pos[-1]\n",
    "\n",
    "    def cost(self, alpha=0.5):\n",
    "        height_term = self.y_pos[0] / self.l\n",
    "        self.height_cost = -alpha * height_term\n",
    "        work_term = self.c / (2 * self.B) * si.trapz(self.sol.y[1] ** 2, self.sol.x)\n",
    "        self.work_cost = (1 - alpha) * work_term\n",
    "        cost = self.height_cost + self.work_cost\n",
    "        return cost"
   ]
  },
  {
   "cell_type": "code",
   "execution_count": null,
   "id": "91d9e6a0-e78b-4218-bba7-95275a414578",
   "metadata": {},
   "outputs": [],
   "source": [
    "snake = Snake(sigma=0.1)\n",
    "snake.solve(verbose=2, max_nodes=5e3)"
   ]
  },
  {
   "cell_type": "code",
   "execution_count": null,
   "id": "8900dfaa-6cce-44b8-b2c4-5c9e81571c21",
   "metadata": {},
   "outputs": [],
   "source": []
  },
  {
   "cell_type": "code",
   "execution_count": null,
   "id": "aceb7c2a-6519-44a2-a2a5-193282f4b146",
   "metadata": {},
   "outputs": [],
   "source": [
    "plt.plot(-snake.x_pos, -snake.y_pos)"
   ]
  },
  {
   "cell_type": "code",
   "execution_count": null,
   "id": "45fd66df-8108-4e31-b398-93eb2de240fc",
   "metadata": {},
   "outputs": [],
   "source": [
    "plt.plot(snake.sol.x, snake.sol.y[0])"
   ]
  },
  {
   "cell_type": "code",
   "execution_count": null,
   "id": "c345e318-3185-434c-a069-2390d70a4f8c",
   "metadata": {},
   "outputs": [],
   "source": [
    "plt.plot(snake.sol.x, snake.sol.y[1])"
   ]
  },
  {
   "cell_type": "code",
   "execution_count": null,
   "id": "211869a7-3c1b-4e0d-93a3-943fa6dd19c2",
   "metadata": {},
   "outputs": [],
   "source": []
  }
 ],
 "metadata": {
  "kernelspec": {
   "display_name": "chameleon",
   "language": "python",
   "name": "chameleon"
  },
  "language_info": {
   "codemirror_mode": {
    "name": "ipython",
    "version": 3
   },
   "file_extension": ".py",
   "mimetype": "text/x-python",
   "name": "python",
   "nbconvert_exporter": "python",
   "pygments_lexer": "ipython3",
   "version": "3.7.4"
  }
 },
 "nbformat": 4,
 "nbformat_minor": 5
}
