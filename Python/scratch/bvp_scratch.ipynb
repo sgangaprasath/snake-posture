{
 "cells": [
  {
   "cell_type": "code",
   "execution_count": null,
   "id": "fdf19213-ab35-4c56-9989-06b88d50d3a3",
   "metadata": {},
   "outputs": [],
   "source": [
    "import numpy as np\n",
    "import scipy.integrate as si\n",
    "import matplotlib.pyplot as plt"
   ]
  },
  {
   "cell_type": "raw",
   "id": "fd1dce98-cd93-403d-9597-4625d3cf6f5c",
   "metadata": {},
   "source": [
    "y'' + k * exp(y) = 0\n",
    "y(0) = y(1) = 0"
   ]
  },
  {
   "cell_type": "code",
   "execution_count": null,
   "id": "4b5f9cfa-4772-433e-92ef-89028396243e",
   "metadata": {},
   "outputs": [],
   "source": [
    "def fun(x, y):\n",
    "    \"\"\"\n",
    "    Specify the dynanimcal equation\n",
    "\n",
    "    Parameters\n",
    "    ----------\n",
    "    x : np.ndarray\n",
    "        Shape (m,) array specifying mesh points\n",
    "    y : np.ndarray\n",
    "        Shape (n, m) array holding y values\n",
    "\n",
    "    Returns\n",
    "    -------\n",
    "    dy/dx : np.ndarray\n",
    "        Shape (n,) array containing RHS of dynamical equations evaluated at x.\n",
    "    \"\"\"\n",
    "    y_1_prime = y[1]\n",
    "    y_2_prime = -np.exp(y[0])\n",
    "    return np.vstack((y_1_prime, y_2_prime))"
   ]
  },
  {
   "cell_type": "code",
   "execution_count": null,
   "id": "96259625-42ab-4990-bb0f-5424d19f37a2",
   "metadata": {},
   "outputs": [],
   "source": [
    "def bc(ya, yb):\n",
    "    \"\"\"\n",
    "    Enforce the boundary conditions.\n",
    "\n",
    "    Parameters\n",
    "    ----------\n",
    "    ya : np.ndarray\n",
    "        Shape (n,) array specifying y values at x=a\n",
    "    yb : np.ndarray\n",
    "        Shape (n,) array specifying y values at x=b\n",
    "\n",
    "    Returns\n",
    "    -------\n",
    "    res : np.ndarray\n",
    "        Shape (n,) array evaluating BC residuals for y.\n",
    "\n",
    "    \"\"\"\n",
    "    res1 = ya[0] - 1\n",
    "    res2 = yb[0] + 1\n",
    "    res = np.array([res1, res2])\n",
    "    return res"
   ]
  },
  {
   "cell_type": "code",
   "execution_count": null,
   "id": "91128119-6a8d-49c8-8d85-6d93a1e27fd1",
   "metadata": {},
   "outputs": [],
   "source": [
    "mesh_points = 50\n",
    "x = np.linspace(-1, 1, mesh_points)\n",
    "y = np.zeros((2, mesh_points))\n",
    "y[0, 0] = 1\n",
    "y[0, -1] = -1"
   ]
  },
  {
   "cell_type": "code",
   "execution_count": null,
   "id": "ab4a071e-15a6-4811-819a-d1d9dd488b72",
   "metadata": {},
   "outputs": [],
   "source": [
    "sol = si.solve_bvp(fun, bc, x, y)"
   ]
  },
  {
   "cell_type": "code",
   "execution_count": null,
   "id": "ad51d550-767d-4c3c-bc88-e056973e9b63",
   "metadata": {},
   "outputs": [],
   "source": [
    "plt.plot(sol.x, sol.y[0])\n",
    "plt.xlabel(\"x\")\n",
    "plt.ylabel(\"y\")\n",
    "plt.title(\"Solved bvp\")\n",
    "plt.show()"
   ]
  },
  {
   "cell_type": "markdown",
   "id": "d214edd6-3cd9-4f9b-9bf2-12dd6538d6c9",
   "metadata": {},
   "source": [
    "Now solving an example with parameters"
   ]
  },
  {
   "cell_type": "raw",
   "id": "4ca33d5b-c578-4680-b620-8e65cae2d345",
   "metadata": {},
   "source": [
    "y'' + k**2 * y = 0\n",
    "y(0) = y(1) = 0"
   ]
  },
  {
   "cell_type": "code",
   "execution_count": null,
   "id": "0a9c8c76-bfb4-4c0e-bd24-949700d58424",
   "metadata": {},
   "outputs": [],
   "source": [
    "def fun(x, y, p):\n",
    "    k = p[0]\n",
    "    y_1_prime = y[1]\n",
    "    y_2_prime = -(k ** 2) * y[0]\n",
    "    y_prime = np.vstack((y_1_prime, y_2_prime))\n",
    "    return y_prime"
   ]
  },
  {
   "cell_type": "code",
   "execution_count": null,
   "id": "e8d498f8-5071-49bc-9681-5fbb1fc834ac",
   "metadata": {},
   "outputs": [],
   "source": [
    "def bc(ya, yb, p):\n",
    "    k = p[0]\n",
    "    res_1 = ya[0] - 1\n",
    "    res_2 = yb[0] - 1\n",
    "    res_3 = ya[1] - k\n",
    "    return np.array([res_1, res_2, res_3])"
   ]
  },
  {
   "cell_type": "code",
   "execution_count": null,
   "id": "24e4bf82-4d57-4942-ab39-aedd3a239289",
   "metadata": {},
   "outputs": [],
   "source": [
    "mesh_points = 50\n",
    "k = 6\n",
    "x = np.linspace(-1, 1, mesh_points)\n",
    "y = np.zeros((2, mesh_points))\n",
    "y[0, 0] = 1\n",
    "y[0, -1] = 1\n",
    "y[1, 0] = k"
   ]
  },
  {
   "cell_type": "code",
   "execution_count": null,
   "id": "359340d4-06a2-4865-bda2-8a47a73c6df0",
   "metadata": {},
   "outputs": [],
   "source": [
    "sol = si.solve_bvp(fun, bc, x, y, p=[k])"
   ]
  },
  {
   "cell_type": "code",
   "execution_count": null,
   "id": "db20e7ad-dc7a-4c65-b4d4-4fa3b773506f",
   "metadata": {},
   "outputs": [],
   "source": [
    "plt.plot(sol.x, sol.y[0])\n",
    "plt.xlabel(\"x\")\n",
    "plt.ylabel(\"y\")\n",
    "plt.title(\"Solved bvp\")\n",
    "plt.show()"
   ]
  },
  {
   "cell_type": "code",
   "execution_count": null,
   "id": "75e90180-c72d-42b6-9987-7cb4d28e86e8",
   "metadata": {},
   "outputs": [],
   "source": [
    "sol.p"
   ]
  },
  {
   "cell_type": "markdown",
   "id": "5de11f85-da0f-4659-b47b-9b432c98b9ae",
   "metadata": {},
   "source": [
    "## Next we solve my problem\n",
    "\n",
    "![Equations](eqn_pic.png)\n",
    "\n",
    "For now set $B = \\rho = 1$ and $g = 10$ with $m^a = 0$"
   ]
  },
  {
   "cell_type": "code",
   "execution_count": null,
   "id": "db7f81a3-f773-4af0-8c9a-ed0e5bb7c2e4",
   "metadata": {},
   "outputs": [],
   "source": [
    "def fun(x, y, p):\n",
    "    \"\"\"\n",
    "    First we will solve with zero active moment.\n",
    "    \"\"\"\n",
    "    l = p[0]\n",
    "    eq1 = np.cos(y[2]) * l\n",
    "    eq2 = np.sin(y[2]) * l\n",
    "    eq3 = y[3]\n",
    "    eq4 = 10 * l ** 3 * np.cos(y[2])\n",
    "    eqn_arr = np.vstack((eq1, eq2, eq3, eq4))\n",
    "    return eqn_arr"
   ]
  },
  {
   "cell_type": "code",
   "execution_count": null,
   "id": "4dbaf1ef-95a3-439a-bcd7-c950777ccf19",
   "metadata": {},
   "outputs": [],
   "source": [
    "def bc(ya, yb, p):\n",
    "    \"\"\"\n",
    "    Enforce all the boundary residuals.\n",
    "    \"\"\"\n",
    "    l = p[0]\n",
    "    res_1 = ya[2]\n",
    "    res_2 = ya[3]\n",
    "    res_3 = yb[0]\n",
    "    res_4 = yb[1]\n",
    "    res_5 = yb[2]\n",
    "    return np.array([res_1, res_2, res_3, res_4, res_5])"
   ]
  },
  {
   "cell_type": "code",
   "execution_count": null,
   "id": "39aa633b-95e1-440d-9a4f-e0338820ddd2",
   "metadata": {},
   "outputs": [],
   "source": [
    "mesh_points = 50\n",
    "l = 3\n",
    "x = np.linspace(0, 1, mesh_points)\n",
    "y = np.zeros((4, mesh_points))\n",
    "y[0, 0] = 2\n",
    "y[0, -1] = 0\n",
    "y[1, -1] = 0\n",
    "y[1, 0] = 2\n",
    "y[2, 0] = 0\n",
    "y[2, -1] = 0\n",
    "y[3, 0] = 0"
   ]
  },
  {
   "cell_type": "code",
   "execution_count": null,
   "id": "f59b320f-e30f-4255-9425-321819b81797",
   "metadata": {},
   "outputs": [],
   "source": [
    "y.shape"
   ]
  },
  {
   "cell_type": "code",
   "execution_count": null,
   "id": "cc829650-eeed-4923-88e0-feb967383e53",
   "metadata": {},
   "outputs": [],
   "source": [
    "sol = si.solve_bvp(fun, bc, x, y, p=[l])"
   ]
  },
  {
   "cell_type": "code",
   "execution_count": null,
   "id": "ff79efa3-48de-4ffc-af13-d6f7063d6ae3",
   "metadata": {},
   "outputs": [],
   "source": [
    "sol.status"
   ]
  },
  {
   "cell_type": "code",
   "execution_count": null,
   "id": "969eb6b3-4fc4-4747-a4bd-81ac0da79802",
   "metadata": {},
   "outputs": [],
   "source": [
    "sol.message"
   ]
  },
  {
   "cell_type": "code",
   "execution_count": null,
   "id": "ec6fe668-02c4-4cfa-909b-329f33d89f72",
   "metadata": {},
   "outputs": [],
   "source": [
    "plt.plot(sol.x, sol.y[0], label=\"x\")\n",
    "plt.plot(sol.x, sol.y[1], label=\"y\")\n",
    "plt.plot(sol.x, sol.y[2], label=r\"$\\theta$\")\n",
    "plt.plot(sol.x, sol.y[3], label=r\"$\\frac{d\\theta}{dr}$\")\n",
    "plt.legend()\n",
    "plt.show()"
   ]
  },
  {
   "cell_type": "code",
   "execution_count": null,
   "id": "01252932-1df7-4e5a-9e88-8ab053e07613",
   "metadata": {},
   "outputs": [],
   "source": [
    "sol.p"
   ]
  },
  {
   "cell_type": "markdown",
   "id": "28d4df35-6b03-474d-b8a6-f92e1b1b93b7",
   "metadata": {},
   "source": [
    "## Didn't work. Let me do a simplified version just solving for the $\\theta s$\n",
    "\n",
    "So I will solve\n",
    "\\begin{equation*}\n",
    "    \\frac{d\\theta_1}{dr} = \\theta_2 \\\\\n",
    "    \\frac{d\\theta_2}{dr} = - \\frac{l}{B}\\frac{dm^a(r)}{dr} + \\frac{\\rho g r l^3}{B} cos\\theta_1 \\\\\n",
    "    \\theta_1(0) = 0 \\\\ \n",
    "    \\theta_1(1) = 0 \\\\ \n",
    "    \\theta_2(0) = -l m^a(0)\n",
    "\\end{equation*}\n",
    "\n",
    "I'll choose something simple where $m^a(r) = r + 1$"
   ]
  },
  {
   "cell_type": "code",
   "execution_count": null,
   "id": "f4f2c972-809d-40cb-b23b-7666a7eaedf1",
   "metadata": {},
   "outputs": [],
   "source": [
    "def fun(x, y, p):\n",
    "    l = p[0]\n",
    "    t_1_prime = y[1]\n",
    "    t_2_prime = -l + l ** 3 * np.cos(y[0])\n",
    "    return np.vstack((t_1_prime, t_2_prime))\n",
    "\n",
    "\n",
    "def bc(ya, yb, p):\n",
    "    l = p[0]\n",
    "    res1 = ya[0]\n",
    "    res2 = ya[1] + l\n",
    "    res3 = yb[0]\n",
    "    return np.array([res1, res2, res3])\n",
    "\n",
    "\n",
    "mesh_points = 50\n",
    "l = 3\n",
    "x = np.linspace(0, 1, mesh_points)\n",
    "y = np.zeros((2, mesh_points))\n",
    "y[0, 0] = 0\n",
    "y[0, -1] = 0\n",
    "y[1, -1] = -l"
   ]
  },
  {
   "cell_type": "code",
   "execution_count": null,
   "id": "1c08814c-a270-48ea-bcef-4dda0be0a001",
   "metadata": {},
   "outputs": [],
   "source": []
  },
  {
   "cell_type": "code",
   "execution_count": null,
   "id": "0bd813cb-5524-4e81-8926-39b8f8122f27",
   "metadata": {},
   "outputs": [],
   "source": [
    "sol = si.solve_bvp(fun, bc, x, y, p=[l])\n",
    "plt.plot(sol.x, sol.y[0], label=r\"$\\theta$\")\n",
    "plt.plot(sol.x, sol.y[1], label=r\"$\\frac{d\\theta}{dr}$\")\n",
    "plt.legend()\n",
    "plt.show()"
   ]
  },
  {
   "cell_type": "code",
   "execution_count": null,
   "id": "8021e749-2702-4bd1-8037-1e47f39a31bd",
   "metadata": {},
   "outputs": [],
   "source": []
  },
  {
   "cell_type": "code",
   "execution_count": null,
   "id": "ef98214e-6bfc-41ad-90e2-40181d76d4ac",
   "metadata": {},
   "outputs": [],
   "source": [
    "x = sol.p[0] * si.cumtrapz(np.cos(sol.y[0]), sol.x)\n",
    "x -= x[-1]\n",
    "y = sol.p[0] * si.cumtrapz(np.sin(sol.y[0]), sol.x)\n",
    "y -= y[-1]\n",
    "plt.plot(x, y)\n",
    "plt.show()"
   ]
  },
  {
   "cell_type": "code",
   "execution_count": null,
   "id": "ce9d7bb3-b4e0-447d-90ad-6eece6a9fcf6",
   "metadata": {},
   "outputs": [],
   "source": [
    "def cost(sol, m_a, alpha=0.5):\n",
    "    \"\"\"\n",
    "    Compute the cost function we are trying to minimize.\n",
    "\n",
    "    Note we have the computed values as a function of r so we should\n",
    "    integrate from 0 to 1 instead of 0 to l.\n",
    "    \"\"\"\n",
    "    r = sol.x\n",
    "    dtheta_dr = sol.y[1]\n",
    "    active_moment = m_a(r)\n",
    "    work = 0.5 * si.trapz(active_moment * dtheta_dr, r)\n",
    "    y = sol.p[0] * si.cumtrapz(np.sin(sol.y[0]), sol.x)\n",
    "    y -= y[-1]\n",
    "    height = y[0]\n",
    "    cost = (1 - alpha) * work - alpha * height\n",
    "    return cost\n",
    "\n",
    "\n",
    "def m_a_lin(r):\n",
    "    return r + 1"
   ]
  },
  {
   "cell_type": "code",
   "execution_count": null,
   "id": "e281cead-875d-41fb-bf1c-3ab932bec6c7",
   "metadata": {},
   "outputs": [],
   "source": [
    "cost(sol, m_a_lin)"
   ]
  },
  {
   "cell_type": "code",
   "execution_count": null,
   "id": "91b4fb42-9602-4013-aa79-035b0524b72d",
   "metadata": {},
   "outputs": [],
   "source": [
    "type(sol)"
   ]
  },
  {
   "cell_type": "markdown",
   "id": "f95896a8-0d7a-4ab4-88ce-38e90ce5e8d5",
   "metadata": {},
   "source": [
    "Slightly more complex $m^a = r^2 + .5$"
   ]
  },
  {
   "cell_type": "code",
   "execution_count": null,
   "id": "a4b59fcd-8a09-40b1-a033-b654c0bd942d",
   "metadata": {},
   "outputs": [],
   "source": [
    "def fun(x, y, p):\n",
    "    l = p[0]\n",
    "    t_1_prime = y[1]\n",
    "    t_2_prime = -l * 2 * x + l ** 3 * x * np.cos(y[0])\n",
    "    return np.vstack((t_1_prime, t_2_prime))\n",
    "\n",
    "\n",
    "def bc(ya, yb, p):\n",
    "    l = p[0]\n",
    "    res1 = ya[0]\n",
    "    res2 = ya[1] + l * 0.5\n",
    "    res3 = yb[0]\n",
    "    return np.array([res1, res2, res3])\n",
    "\n",
    "\n",
    "mesh_points = 50\n",
    "l = 3\n",
    "x = np.linspace(0, 1, mesh_points)\n",
    "y = np.zeros((2, mesh_points))\n",
    "y[0, 0] = 0\n",
    "y[0, -1] = 0\n",
    "y[1, 0] = -l * 0.5"
   ]
  },
  {
   "cell_type": "code",
   "execution_count": null,
   "id": "60412343-6545-4847-98d0-0e725208550a",
   "metadata": {},
   "outputs": [],
   "source": [
    "sol = si.solve_bvp(fun, bc, x, y, p=[l])\n",
    "plt.plot(sol.x, sol.y[0], label=r\"$\\theta$\")\n",
    "plt.plot(sol.x, sol.y[1], label=r\"$\\frac{d\\theta}{dr}$\")\n",
    "plt.xlabel(\"r\")\n",
    "plt.legend()\n",
    "plt.show()"
   ]
  },
  {
   "cell_type": "code",
   "execution_count": null,
   "id": "f4bed289-3027-4363-b7b4-d0dd84d15321",
   "metadata": {},
   "outputs": [],
   "source": [
    "x = sol.p[0] * si.cumtrapz(np.cos(sol.y[0]), sol.x)\n",
    "x -= x[-1]\n",
    "y = sol.p[0] * si.cumtrapz(np.sin(sol.y[0]), sol.x)\n",
    "y -= y[-1]\n",
    "plt.plot(x, y)\n",
    "plt.show()"
   ]
  },
  {
   "cell_type": "code",
   "execution_count": null,
   "id": "2430c8f6-089c-4203-9921-2018dfd3da11",
   "metadata": {},
   "outputs": [],
   "source": [
    "def m_a_sq(r):\n",
    "    return r ** 2 + 0.5\n",
    "\n",
    "\n",
    "cost(sol, m_a_sq)"
   ]
  },
  {
   "cell_type": "code",
   "execution_count": null,
   "id": "25dec761-9a05-4160-b290-a202c31a00d9",
   "metadata": {},
   "outputs": [],
   "source": []
  }
 ],
 "metadata": {
  "kernelspec": {
   "display_name": "chameleon",
   "language": "python",
   "name": "chameleon"
  },
  "language_info": {
   "codemirror_mode": {
    "name": "ipython",
    "version": 3
   },
   "file_extension": ".py",
   "mimetype": "text/x-python",
   "name": "python",
   "nbconvert_exporter": "python",
   "pygments_lexer": "ipython3",
   "version": "3.7.4"
  }
 },
 "nbformat": 4,
 "nbformat_minor": 5
}
